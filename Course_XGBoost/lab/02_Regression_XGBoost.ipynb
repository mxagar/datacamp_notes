{
 "cells": [
  {
   "cell_type": "markdown",
   "id": "af352108-ae0b-4fcc-a9fe-6e3f74f2f391",
   "metadata": {},
   "source": [
    "# 2. Regression with XGBoost"
   ]
  },
  {
   "cell_type": "markdown",
   "id": "cb9d85dc-5d01-4f3d-95b9-595b0c5e9398",
   "metadata": {},
   "source": [
    "These are my personal notes of the Datacamp course [Extreme Gradient Boosting with XGBoost](https://app.datacamp.com/learn/courses/extreme-gradient-boosting-with-xgboost).\n",
    "\n",
    "The course has 4 main sections:\n",
    "\n",
    "1. Classification\n",
    "2. **Regression**: the current notebook.\n",
    "3. Fine-tuning XGBoost\n",
    "4. Using XGBoost in Pipelines\n",
    "\n",
    "XGBoost is an implementation of the [Gradient Boosting](https://en.wikipedia.org/wiki/Gradient_boosting) algorithm in C++ which has bindings to other languages, such as Python. It has the following properties:\n",
    "\n",
    "- Fast.\n",
    "- Best performance.\n",
    "- Parallelizable, on a computer and across the network. So it can work with huge datasets distributed on several nodes/GPUs.\n",
    "- We can use it for classification and regression.\n",
    "- The [Python API](https://xgboost.readthedocs.io/en/stable/python/python_api.html) is easy to use and has two major flavors or sub-APIs:\n",
    "  - The **Scikit-Learn API**: We instantiate `XGBRegressor()` or `XGBClassifier` and then we can `fit()` and `predict()`, using the typical Scikit-Learn parameters; we can even use those objects with other Scikit-Learn modules, such as `GridSearchCV`.\n",
    "  - The **Learning API**: The native XGBoost Python API requires to convert the dataframes into `DMatrix` objects first; then, we have powerful methods which allow for tuning many parameters: `xgb.cv()`, `xgb.train()`. The native/learning API is very easy to use. **Note: the parameter names are different compared to the Scikit-Learn API!**\n",
    "\n",
    "Classification is the original supervised learning problem addressed by XGBoost, although it can also handle regression problems.\n",
    "\n",
    "### Installation\n",
    "\n",
    "```python\n",
    "# PIP\n",
    "pip install xgboost\n",
    "\n",
    "# Conda: General\n",
    "conda install -c conda-forge py-xgboost\n",
    "\n",
    "# Conda: CPU only\n",
    "conda install -c conda-forge py-xgboost-cpu\n",
    "\n",
    "# Conda: Use NVIDIA GPU: Linux x86_64\n",
    "conda install -c conda-forge py-xgboost-gpu\n",
    "\n",
    "# For tree visualization\n",
    "pip install graphviz\n",
    "```\n",
    "\n",
    "### Table of Contents\n",
    "\n",
    "- [2.1 Non-Linear and Linear Weak Learners: Ames/Boston Housing Prediction](#2.1-Non-Linear-and-Linear-Weak-Learners:-Ames/Boston-Housing-Prediction)\n",
    "- [2.2 Regression with Cross-Validation](#2.2-Regression-with-Cross-Validation)\n",
    "- [2.3 Regression with Regularization](#2.3-Regression-with-Regularization)\n",
    "- [2.4 Visualizing Trees](#2.4-Visualizing-Trees)\n",
    "- [2.5 Feature Importances](#2.5-Feature-Importances)"
   ]
  },
  {
   "cell_type": "markdown",
   "id": "e6c38283-8e26-4add-a11e-d06c7a2bef2d",
   "metadata": {},
   "source": [
    "## 2.1 Non-Linear and Linear Weak Learners: Ames/Boston Housing Prediction\n",
    "\n",
    "In regression, continuous values are predicted.\n",
    "\n",
    "Typical metrics for regression:\n",
    "\n",
    "- Root mean square error (RMSE): `sqrt(sum((y_true-y_pred)^2))`: `\"rmse\"`.\n",
    "- Mean absolute error (MAE): `mean(abs(y_true-y_pred))`: `\"mae\".`\n",
    "\n",
    "The objective function in regression is `reg:linear` (deprecated) or `reg:squarederror`.\n",
    "\n",
    "We can use as base learners two types of models:\n",
    "\n",
    "- Trees, i.e., CARTs: `params[\"booster\"] = \"gbtree\"`. **These are the learners by default, and are almost the unique ones that are used in practice.**\n",
    "- Linear learners, i.e., linear models: : `params[\"booster\"] = \"gblinear\"`.\n",
    "\n",
    "The ensemble model is a weighted sum of the weak learners; if we use the linear learners, the final model is linear, if use trees as weak learners, the final model is non-linear.\n",
    "\n",
    "Additionally, we can apply **regularization** to control the complexity of the model:\n",
    "\n",
    "- `gamma`: minimum loss reduction allowed for a split to occur.\n",
    "- `alpha`: L1 regularization on (leaf) weights, larger values mean more regularization.\n",
    "- `lambda`: L2 regularization on (leaf) weights.\n",
    "\n",
    "Apparently, all these regularization parameters can be used with both base/weak learners; however, their interpretation is different in each case:\n",
    "\n",
    "1. Decision Trees (`\"gbtree\"` base learner):\n",
    "  - Gamma: Controls the minimum loss reduction required to make a split in a decision tree. A higher value of gamma makes the algorithm more conservative and reduces the number of splits.\n",
    "  - Alpha: L1 regularization parameter on leaf weights. A higher value of alpha makes the leaf weights closer to zero, resulting in a more sparse tree.\n",
    "  - Lambda: L2 regularization parameter on leaf weights. A higher value of lambda makes the leaf weights smaller, resulting in a smoother tree.\n",
    "\n",
    "2. Linear Models (`\"gblinear\"` base learner):\n",
    "  - Gamma: Controls the L1 regularization strength on the weights. A higher value of gamma results in more sparsity in the weight matrix.\n",
    "  - Alpha: L1 regularization parameter on the bias. A higher value of alpha makes the bias closer to zero, resulting in a more sparse model.\n",
    "  - Lambda: L2 regularization parameter on the weights. A higher value of lambda makes the weights smaller, resulting in a smoother model."
   ]
  },
  {
   "cell_type": "markdown",
   "id": "3e4f173b-0a0b-4460-9eac-9dc70e3d0cde",
   "metadata": {},
   "source": [
    "### 2.1.1 Default Weak Learner (Trees, CART)"
   ]
  },
  {
   "cell_type": "code",
   "execution_count": 3,
   "id": "c1e6f22a-38be-445b-a943-149ae08f6a0f",
   "metadata": {},
   "outputs": [],
   "source": [
    "import xgboost as xgb\n",
    "import pandas as pd\n",
    "import numpy as np\n",
    "from sklearn.model_selection import train_test_split\n",
    "from sklearn.metrics import mean_squared_error"
   ]
  },
  {
   "cell_type": "code",
   "execution_count": 4,
   "id": "f724e63f-349b-4750-83ad-fd08cd4ed2f5",
   "metadata": {},
   "outputs": [],
   "source": [
    "boston_data = pd.read_csv(\"../data/ames_housing_trimmed_processed.csv\")"
   ]
  },
  {
   "cell_type": "code",
   "execution_count": 5,
   "id": "1dc39c1c-579b-4454-90b1-1bc591e08c28",
   "metadata": {},
   "outputs": [
    {
     "data": {
      "text/html": [
       "<div>\n",
       "<style scoped>\n",
       "    .dataframe tbody tr th:only-of-type {\n",
       "        vertical-align: middle;\n",
       "    }\n",
       "\n",
       "    .dataframe tbody tr th {\n",
       "        vertical-align: top;\n",
       "    }\n",
       "\n",
       "    .dataframe thead th {\n",
       "        text-align: right;\n",
       "    }\n",
       "</style>\n",
       "<table border=\"1\" class=\"dataframe\">\n",
       "  <thead>\n",
       "    <tr style=\"text-align: right;\">\n",
       "      <th></th>\n",
       "      <th>MSSubClass</th>\n",
       "      <th>LotFrontage</th>\n",
       "      <th>LotArea</th>\n",
       "      <th>OverallQual</th>\n",
       "      <th>OverallCond</th>\n",
       "      <th>YearBuilt</th>\n",
       "      <th>Remodeled</th>\n",
       "      <th>GrLivArea</th>\n",
       "      <th>BsmtFullBath</th>\n",
       "      <th>BsmtHalfBath</th>\n",
       "      <th>...</th>\n",
       "      <th>HouseStyle_1.5Unf</th>\n",
       "      <th>HouseStyle_1Story</th>\n",
       "      <th>HouseStyle_2.5Fin</th>\n",
       "      <th>HouseStyle_2.5Unf</th>\n",
       "      <th>HouseStyle_2Story</th>\n",
       "      <th>HouseStyle_SFoyer</th>\n",
       "      <th>HouseStyle_SLvl</th>\n",
       "      <th>PavedDrive_P</th>\n",
       "      <th>PavedDrive_Y</th>\n",
       "      <th>SalePrice</th>\n",
       "    </tr>\n",
       "  </thead>\n",
       "  <tbody>\n",
       "    <tr>\n",
       "      <th>0</th>\n",
       "      <td>60</td>\n",
       "      <td>65.0</td>\n",
       "      <td>8450</td>\n",
       "      <td>7</td>\n",
       "      <td>5</td>\n",
       "      <td>2003</td>\n",
       "      <td>0</td>\n",
       "      <td>1710</td>\n",
       "      <td>1</td>\n",
       "      <td>0</td>\n",
       "      <td>...</td>\n",
       "      <td>0</td>\n",
       "      <td>0</td>\n",
       "      <td>0</td>\n",
       "      <td>0</td>\n",
       "      <td>1</td>\n",
       "      <td>0</td>\n",
       "      <td>0</td>\n",
       "      <td>0</td>\n",
       "      <td>1</td>\n",
       "      <td>208500</td>\n",
       "    </tr>\n",
       "    <tr>\n",
       "      <th>1</th>\n",
       "      <td>20</td>\n",
       "      <td>80.0</td>\n",
       "      <td>9600</td>\n",
       "      <td>6</td>\n",
       "      <td>8</td>\n",
       "      <td>1976</td>\n",
       "      <td>0</td>\n",
       "      <td>1262</td>\n",
       "      <td>0</td>\n",
       "      <td>1</td>\n",
       "      <td>...</td>\n",
       "      <td>0</td>\n",
       "      <td>1</td>\n",
       "      <td>0</td>\n",
       "      <td>0</td>\n",
       "      <td>0</td>\n",
       "      <td>0</td>\n",
       "      <td>0</td>\n",
       "      <td>0</td>\n",
       "      <td>1</td>\n",
       "      <td>181500</td>\n",
       "    </tr>\n",
       "    <tr>\n",
       "      <th>2</th>\n",
       "      <td>60</td>\n",
       "      <td>68.0</td>\n",
       "      <td>11250</td>\n",
       "      <td>7</td>\n",
       "      <td>5</td>\n",
       "      <td>2001</td>\n",
       "      <td>1</td>\n",
       "      <td>1786</td>\n",
       "      <td>1</td>\n",
       "      <td>0</td>\n",
       "      <td>...</td>\n",
       "      <td>0</td>\n",
       "      <td>0</td>\n",
       "      <td>0</td>\n",
       "      <td>0</td>\n",
       "      <td>1</td>\n",
       "      <td>0</td>\n",
       "      <td>0</td>\n",
       "      <td>0</td>\n",
       "      <td>1</td>\n",
       "      <td>223500</td>\n",
       "    </tr>\n",
       "    <tr>\n",
       "      <th>3</th>\n",
       "      <td>70</td>\n",
       "      <td>60.0</td>\n",
       "      <td>9550</td>\n",
       "      <td>7</td>\n",
       "      <td>5</td>\n",
       "      <td>1915</td>\n",
       "      <td>1</td>\n",
       "      <td>1717</td>\n",
       "      <td>1</td>\n",
       "      <td>0</td>\n",
       "      <td>...</td>\n",
       "      <td>0</td>\n",
       "      <td>0</td>\n",
       "      <td>0</td>\n",
       "      <td>0</td>\n",
       "      <td>1</td>\n",
       "      <td>0</td>\n",
       "      <td>0</td>\n",
       "      <td>0</td>\n",
       "      <td>1</td>\n",
       "      <td>140000</td>\n",
       "    </tr>\n",
       "    <tr>\n",
       "      <th>4</th>\n",
       "      <td>60</td>\n",
       "      <td>84.0</td>\n",
       "      <td>14260</td>\n",
       "      <td>8</td>\n",
       "      <td>5</td>\n",
       "      <td>2000</td>\n",
       "      <td>0</td>\n",
       "      <td>2198</td>\n",
       "      <td>1</td>\n",
       "      <td>0</td>\n",
       "      <td>...</td>\n",
       "      <td>0</td>\n",
       "      <td>0</td>\n",
       "      <td>0</td>\n",
       "      <td>0</td>\n",
       "      <td>1</td>\n",
       "      <td>0</td>\n",
       "      <td>0</td>\n",
       "      <td>0</td>\n",
       "      <td>1</td>\n",
       "      <td>250000</td>\n",
       "    </tr>\n",
       "  </tbody>\n",
       "</table>\n",
       "<p>5 rows × 57 columns</p>\n",
       "</div>"
      ],
      "text/plain": [
       "   MSSubClass  LotFrontage  LotArea  OverallQual  OverallCond  YearBuilt  \\\n",
       "0          60         65.0     8450            7            5       2003   \n",
       "1          20         80.0     9600            6            8       1976   \n",
       "2          60         68.0    11250            7            5       2001   \n",
       "3          70         60.0     9550            7            5       1915   \n",
       "4          60         84.0    14260            8            5       2000   \n",
       "\n",
       "   Remodeled  GrLivArea  BsmtFullBath  BsmtHalfBath  ...  HouseStyle_1.5Unf  \\\n",
       "0          0       1710             1             0  ...                  0   \n",
       "1          0       1262             0             1  ...                  0   \n",
       "2          1       1786             1             0  ...                  0   \n",
       "3          1       1717             1             0  ...                  0   \n",
       "4          0       2198             1             0  ...                  0   \n",
       "\n",
       "   HouseStyle_1Story  HouseStyle_2.5Fin  HouseStyle_2.5Unf  HouseStyle_2Story  \\\n",
       "0                  0                  0                  0                  1   \n",
       "1                  1                  0                  0                  0   \n",
       "2                  0                  0                  0                  1   \n",
       "3                  0                  0                  0                  1   \n",
       "4                  0                  0                  0                  1   \n",
       "\n",
       "   HouseStyle_SFoyer  HouseStyle_SLvl  PavedDrive_P  PavedDrive_Y  SalePrice  \n",
       "0                  0                0             0             1     208500  \n",
       "1                  0                0             0             1     181500  \n",
       "2                  0                0             0             1     223500  \n",
       "3                  0                0             0             1     140000  \n",
       "4                  0                0             0             1     250000  \n",
       "\n",
       "[5 rows x 57 columns]"
      ]
     },
     "execution_count": 5,
     "metadata": {},
     "output_type": "execute_result"
    }
   ],
   "source": [
    "boston_data.head()"
   ]
  },
  {
   "cell_type": "code",
   "execution_count": 6,
   "id": "82ee4757-85e2-4e52-827b-d95abe2a34fb",
   "metadata": {},
   "outputs": [
    {
     "data": {
      "text/plain": [
       "(1460, 57)"
      ]
     },
     "execution_count": 6,
     "metadata": {},
     "output_type": "execute_result"
    }
   ],
   "source": [
    "boston_data.shape"
   ]
  },
  {
   "cell_type": "code",
   "execution_count": 7,
   "id": "e07ab7fc-d15f-4b68-8bc5-fab1dcbe020c",
   "metadata": {},
   "outputs": [],
   "source": [
    "X, y = boston_data.iloc[:,:-1],boston_data.iloc[:,-1]\n",
    "X_train, X_test, y_train, y_test= train_test_split(X,\n",
    "                                                   y,\n",
    "                                                   test_size=0.2,\n",
    "                                                   random_state=123)"
   ]
  },
  {
   "cell_type": "code",
   "execution_count": 8,
   "id": "40a19527-77e1-4fb9-a547-34fc2c34fafd",
   "metadata": {},
   "outputs": [],
   "source": [
    "xg_reg = xgb.XGBRegressor(objective='reg:squarederror', # reg:linear\n",
    "                          n_estimators=10,\n",
    "                          seed=123)"
   ]
  },
  {
   "cell_type": "code",
   "execution_count": 9,
   "id": "a34f62ab-10b5-4f5c-b118-746f7729f5c9",
   "metadata": {},
   "outputs": [
    {
     "data": {
      "text/plain": [
       "XGBRegressor(base_score=0.5, booster='gbtree', colsample_bylevel=1,\n",
       "             colsample_bynode=1, colsample_bytree=1, enable_categorical=False,\n",
       "             gamma=0, gpu_id=-1, importance_type=None,\n",
       "             interaction_constraints='', learning_rate=0.300000012,\n",
       "             max_delta_step=0, max_depth=6, min_child_weight=1, missing=nan,\n",
       "             monotone_constraints='()', n_estimators=10, n_jobs=8,\n",
       "             num_parallel_tree=1, predictor='auto', random_state=123,\n",
       "             reg_alpha=0, reg_lambda=1, scale_pos_weight=1, seed=123,\n",
       "             subsample=1, tree_method='exact', validate_parameters=1,\n",
       "             verbosity=None)"
      ]
     },
     "execution_count": 9,
     "metadata": {},
     "output_type": "execute_result"
    }
   ],
   "source": [
    "xg_reg.fit(X_train, y_train)"
   ]
  },
  {
   "cell_type": "code",
   "execution_count": 10,
   "id": "f05a7f07-49db-429d-81a5-442e2764567e",
   "metadata": {},
   "outputs": [],
   "source": [
    "preds = xg_reg.predict(X_test)"
   ]
  },
  {
   "cell_type": "code",
   "execution_count": 11,
   "id": "44561ea8-ae41-49a5-a932-c94be05ea1c0",
   "metadata": {},
   "outputs": [
    {
     "name": "stdout",
     "output_type": "stream",
     "text": [
      "RMSE: 28106.463641\n"
     ]
    }
   ],
   "source": [
    "rmse = np.sqrt(mean_squared_error(y_test,preds))\n",
    "print(\"RMSE: %f\" % (rmse))"
   ]
  },
  {
   "cell_type": "markdown",
   "id": "370e93c9-3cc2-4def-a509-210aa2580892",
   "metadata": {},
   "source": [
    "### 2.1.2 Linear Weak Learner"
   ]
  },
  {
   "cell_type": "markdown",
   "id": "deef3715-7ffb-46d6-8dbe-c84a81841952",
   "metadata": {},
   "source": [
    "If we want to use linear weak learners, we need to use the learning API, which is different:\n",
    "\n",
    "- We need to define `DMatrix` objects.\n",
    "- We call `xgb.train()`."
   ]
  },
  {
   "cell_type": "code",
   "execution_count": 12,
   "id": "a0d9ddbe-a17f-425f-8b0b-cf396e6505ba",
   "metadata": {},
   "outputs": [],
   "source": [
    "import xgboost as xgb\n",
    "import pandas as pd\n",
    "import numpy as np\n",
    "from sklearn.model_selection import train_test_split\n",
    "from sklearn.metrics import mean_squared_error"
   ]
  },
  {
   "cell_type": "code",
   "execution_count": 13,
   "id": "a3763794-24ff-4dfe-821e-4d60d7353334",
   "metadata": {},
   "outputs": [],
   "source": [
    "boston_data = pd.read_csv(\"../data/ames_housing_trimmed_processed.csv\")"
   ]
  },
  {
   "cell_type": "code",
   "execution_count": 14,
   "id": "3459800c-771d-4bf8-8d18-06c0c2529ec0",
   "metadata": {},
   "outputs": [
    {
     "data": {
      "text/html": [
       "<div>\n",
       "<style scoped>\n",
       "    .dataframe tbody tr th:only-of-type {\n",
       "        vertical-align: middle;\n",
       "    }\n",
       "\n",
       "    .dataframe tbody tr th {\n",
       "        vertical-align: top;\n",
       "    }\n",
       "\n",
       "    .dataframe thead th {\n",
       "        text-align: right;\n",
       "    }\n",
       "</style>\n",
       "<table border=\"1\" class=\"dataframe\">\n",
       "  <thead>\n",
       "    <tr style=\"text-align: right;\">\n",
       "      <th></th>\n",
       "      <th>MSSubClass</th>\n",
       "      <th>LotFrontage</th>\n",
       "      <th>LotArea</th>\n",
       "      <th>OverallQual</th>\n",
       "      <th>OverallCond</th>\n",
       "      <th>YearBuilt</th>\n",
       "      <th>Remodeled</th>\n",
       "      <th>GrLivArea</th>\n",
       "      <th>BsmtFullBath</th>\n",
       "      <th>BsmtHalfBath</th>\n",
       "      <th>...</th>\n",
       "      <th>HouseStyle_1.5Unf</th>\n",
       "      <th>HouseStyle_1Story</th>\n",
       "      <th>HouseStyle_2.5Fin</th>\n",
       "      <th>HouseStyle_2.5Unf</th>\n",
       "      <th>HouseStyle_2Story</th>\n",
       "      <th>HouseStyle_SFoyer</th>\n",
       "      <th>HouseStyle_SLvl</th>\n",
       "      <th>PavedDrive_P</th>\n",
       "      <th>PavedDrive_Y</th>\n",
       "      <th>SalePrice</th>\n",
       "    </tr>\n",
       "  </thead>\n",
       "  <tbody>\n",
       "    <tr>\n",
       "      <th>0</th>\n",
       "      <td>60</td>\n",
       "      <td>65.0</td>\n",
       "      <td>8450</td>\n",
       "      <td>7</td>\n",
       "      <td>5</td>\n",
       "      <td>2003</td>\n",
       "      <td>0</td>\n",
       "      <td>1710</td>\n",
       "      <td>1</td>\n",
       "      <td>0</td>\n",
       "      <td>...</td>\n",
       "      <td>0</td>\n",
       "      <td>0</td>\n",
       "      <td>0</td>\n",
       "      <td>0</td>\n",
       "      <td>1</td>\n",
       "      <td>0</td>\n",
       "      <td>0</td>\n",
       "      <td>0</td>\n",
       "      <td>1</td>\n",
       "      <td>208500</td>\n",
       "    </tr>\n",
       "    <tr>\n",
       "      <th>1</th>\n",
       "      <td>20</td>\n",
       "      <td>80.0</td>\n",
       "      <td>9600</td>\n",
       "      <td>6</td>\n",
       "      <td>8</td>\n",
       "      <td>1976</td>\n",
       "      <td>0</td>\n",
       "      <td>1262</td>\n",
       "      <td>0</td>\n",
       "      <td>1</td>\n",
       "      <td>...</td>\n",
       "      <td>0</td>\n",
       "      <td>1</td>\n",
       "      <td>0</td>\n",
       "      <td>0</td>\n",
       "      <td>0</td>\n",
       "      <td>0</td>\n",
       "      <td>0</td>\n",
       "      <td>0</td>\n",
       "      <td>1</td>\n",
       "      <td>181500</td>\n",
       "    </tr>\n",
       "    <tr>\n",
       "      <th>2</th>\n",
       "      <td>60</td>\n",
       "      <td>68.0</td>\n",
       "      <td>11250</td>\n",
       "      <td>7</td>\n",
       "      <td>5</td>\n",
       "      <td>2001</td>\n",
       "      <td>1</td>\n",
       "      <td>1786</td>\n",
       "      <td>1</td>\n",
       "      <td>0</td>\n",
       "      <td>...</td>\n",
       "      <td>0</td>\n",
       "      <td>0</td>\n",
       "      <td>0</td>\n",
       "      <td>0</td>\n",
       "      <td>1</td>\n",
       "      <td>0</td>\n",
       "      <td>0</td>\n",
       "      <td>0</td>\n",
       "      <td>1</td>\n",
       "      <td>223500</td>\n",
       "    </tr>\n",
       "    <tr>\n",
       "      <th>3</th>\n",
       "      <td>70</td>\n",
       "      <td>60.0</td>\n",
       "      <td>9550</td>\n",
       "      <td>7</td>\n",
       "      <td>5</td>\n",
       "      <td>1915</td>\n",
       "      <td>1</td>\n",
       "      <td>1717</td>\n",
       "      <td>1</td>\n",
       "      <td>0</td>\n",
       "      <td>...</td>\n",
       "      <td>0</td>\n",
       "      <td>0</td>\n",
       "      <td>0</td>\n",
       "      <td>0</td>\n",
       "      <td>1</td>\n",
       "      <td>0</td>\n",
       "      <td>0</td>\n",
       "      <td>0</td>\n",
       "      <td>1</td>\n",
       "      <td>140000</td>\n",
       "    </tr>\n",
       "    <tr>\n",
       "      <th>4</th>\n",
       "      <td>60</td>\n",
       "      <td>84.0</td>\n",
       "      <td>14260</td>\n",
       "      <td>8</td>\n",
       "      <td>5</td>\n",
       "      <td>2000</td>\n",
       "      <td>0</td>\n",
       "      <td>2198</td>\n",
       "      <td>1</td>\n",
       "      <td>0</td>\n",
       "      <td>...</td>\n",
       "      <td>0</td>\n",
       "      <td>0</td>\n",
       "      <td>0</td>\n",
       "      <td>0</td>\n",
       "      <td>1</td>\n",
       "      <td>0</td>\n",
       "      <td>0</td>\n",
       "      <td>0</td>\n",
       "      <td>1</td>\n",
       "      <td>250000</td>\n",
       "    </tr>\n",
       "  </tbody>\n",
       "</table>\n",
       "<p>5 rows × 57 columns</p>\n",
       "</div>"
      ],
      "text/plain": [
       "   MSSubClass  LotFrontage  LotArea  OverallQual  OverallCond  YearBuilt  \\\n",
       "0          60         65.0     8450            7            5       2003   \n",
       "1          20         80.0     9600            6            8       1976   \n",
       "2          60         68.0    11250            7            5       2001   \n",
       "3          70         60.0     9550            7            5       1915   \n",
       "4          60         84.0    14260            8            5       2000   \n",
       "\n",
       "   Remodeled  GrLivArea  BsmtFullBath  BsmtHalfBath  ...  HouseStyle_1.5Unf  \\\n",
       "0          0       1710             1             0  ...                  0   \n",
       "1          0       1262             0             1  ...                  0   \n",
       "2          1       1786             1             0  ...                  0   \n",
       "3          1       1717             1             0  ...                  0   \n",
       "4          0       2198             1             0  ...                  0   \n",
       "\n",
       "   HouseStyle_1Story  HouseStyle_2.5Fin  HouseStyle_2.5Unf  HouseStyle_2Story  \\\n",
       "0                  0                  0                  0                  1   \n",
       "1                  1                  0                  0                  0   \n",
       "2                  0                  0                  0                  1   \n",
       "3                  0                  0                  0                  1   \n",
       "4                  0                  0                  0                  1   \n",
       "\n",
       "   HouseStyle_SFoyer  HouseStyle_SLvl  PavedDrive_P  PavedDrive_Y  SalePrice  \n",
       "0                  0                0             0             1     208500  \n",
       "1                  0                0             0             1     181500  \n",
       "2                  0                0             0             1     223500  \n",
       "3                  0                0             0             1     140000  \n",
       "4                  0                0             0             1     250000  \n",
       "\n",
       "[5 rows x 57 columns]"
      ]
     },
     "execution_count": 14,
     "metadata": {},
     "output_type": "execute_result"
    }
   ],
   "source": [
    "boston_data.head()"
   ]
  },
  {
   "cell_type": "code",
   "execution_count": 15,
   "id": "89dc77f8-3815-4a66-82c9-5a5300f5f9f1",
   "metadata": {},
   "outputs": [],
   "source": [
    "X, y = boston_data.iloc[:,:-1],boston_data.iloc[:,-1]\n",
    "X_train, X_test, y_train, y_test= train_test_split(X,\n",
    "                                                   y,\n",
    "                                                   test_size=0.2,\n",
    "                                                   random_state=123)"
   ]
  },
  {
   "cell_type": "code",
   "execution_count": 16,
   "id": "b8395a8a-b371-47d2-a664-06230adf98e3",
   "metadata": {},
   "outputs": [],
   "source": [
    "# Convert to DMatrix: note that both X and y are in the matrix!\n",
    "DM_train = xgb.DMatrix(data=X_train,label=y_train)\n",
    "DM_test =  xgb.DMatrix(data=X_test,label=y_test)"
   ]
  },
  {
   "cell_type": "code",
   "execution_count": 17,
   "id": "7b902b65-a5be-49f9-a53c-43abc8723558",
   "metadata": {},
   "outputs": [],
   "source": [
    "# Define params\n",
    "# The weak learner is defined with booster\n",
    "# In this case, we use a linear base learner!\n",
    "params = {\"booster\":\"gblinear\", # Trees are \"gbtree\", default\n",
    "          \"objective\":\"reg:squarederror\"} # linear\n",
    "xg_reg = xgb.train(params=params, dtrain=DM_train, num_boost_round=10)"
   ]
  },
  {
   "cell_type": "code",
   "execution_count": 18,
   "id": "63939bc8-edac-4689-ac8e-1a1b578f63bc",
   "metadata": {},
   "outputs": [],
   "source": [
    "preds = xg_reg.predict(DM_test)"
   ]
  },
  {
   "cell_type": "code",
   "execution_count": 19,
   "id": "3b83824c-dd61-4f53-9f36-588f3a5b8453",
   "metadata": {},
   "outputs": [
    {
     "name": "stdout",
     "output_type": "stream",
     "text": [
      "RMSE: 41396.164741\n"
     ]
    }
   ],
   "source": [
    "rmse = np.sqrt(mean_squared_error(y_test,preds))\n",
    "print(\"RMSE: %f\" % (rmse))"
   ]
  },
  {
   "cell_type": "markdown",
   "id": "49f96cdf-31bb-4aad-af4e-d5669b641928",
   "metadata": {},
   "source": [
    "## 2.2 Regression with Cross-Validation"
   ]
  },
  {
   "cell_type": "markdown",
   "id": "6f36a6e3-9d88-4f44-bbdd-c2b31ed0d6a0",
   "metadata": {},
   "source": [
    "As for classification, we need to use the CV API with `DMatrix` objects."
   ]
  },
  {
   "cell_type": "code",
   "execution_count": 27,
   "id": "1634f37e-0aa5-4d30-a09e-c987af8150ee",
   "metadata": {},
   "outputs": [],
   "source": [
    "import xgboost as xgb\n",
    "import pandas as pd\n",
    "import numpy as np\n",
    "from sklearn.model_selection import train_test_split\n",
    "from sklearn.metrics import mean_squared_error"
   ]
  },
  {
   "cell_type": "code",
   "execution_count": 28,
   "id": "2904cc75-7921-4058-acd5-b114b4372dc9",
   "metadata": {},
   "outputs": [],
   "source": [
    "boston_data = pd.read_csv(\"../data/ames_housing_trimmed_processed.csv\")"
   ]
  },
  {
   "cell_type": "code",
   "execution_count": 29,
   "id": "3121b5f9-b421-4c42-8720-e33f7e9367e6",
   "metadata": {},
   "outputs": [],
   "source": [
    "X, y = boston_data.iloc[:,:-1],boston_data.iloc[:,-1]"
   ]
  },
  {
   "cell_type": "code",
   "execution_count": 30,
   "id": "3e86c6e1-f32e-4320-a3be-5b146076f562",
   "metadata": {},
   "outputs": [],
   "source": [
    "# Create the DMatrix: housing_dmatrix\n",
    "housing_dmatrix = xgb.DMatrix(data=X, label=y)"
   ]
  },
  {
   "cell_type": "code",
   "execution_count": 31,
   "id": "d5ce0fa5-73fb-4e24-a334-c7213a327808",
   "metadata": {},
   "outputs": [],
   "source": [
    "# Create the parameter dictionary: params\n",
    "params = {\"objective\":\"reg:squarederror\", \"max_depth\":4}"
   ]
  },
  {
   "cell_type": "code",
   "execution_count": 32,
   "id": "06ae2a09-1eae-4106-b6fa-04d9fd26e0bc",
   "metadata": {},
   "outputs": [],
   "source": [
    "# Perform cross-validation: cv_results\n",
    "cv_results = xgb.cv(dtrain=housing_dmatrix,\n",
    "                    params=params,\n",
    "                    nfold=4,\n",
    "                    num_boost_round=5,\n",
    "                    metrics=\"rmse\", # or \"mae\"\n",
    "                    as_pandas=True,\n",
    "                    seed=123)"
   ]
  },
  {
   "cell_type": "code",
   "execution_count": 35,
   "id": "02fd6891-3c0d-42aa-90c8-369930564b7d",
   "metadata": {},
   "outputs": [
    {
     "name": "stdout",
     "output_type": "stream",
     "text": [
      "   train-rmse-mean  train-rmse-std  test-rmse-mean  test-rmse-std\n",
      "0    141767.531250      429.448328   142980.433594    1193.798509\n",
      "1    102832.542969      322.473304   104891.396485    1223.159762\n",
      "2     75872.619140      266.472468    79478.937500    1601.344539\n",
      "3     57245.650390      273.624608    62411.921875    2220.149857\n",
      "4     44401.297851      316.422372    51348.280274    2963.377140\n"
     ]
    }
   ],
   "source": [
    "# Print cv_results\n",
    "print(cv_results)"
   ]
  },
  {
   "cell_type": "code",
   "execution_count": 38,
   "id": "d316d6b7-7c8d-42ce-aa4d-d9c4fbd122d7",
   "metadata": {},
   "outputs": [
    {
     "name": "stdout",
     "output_type": "stream",
     "text": [
      "4    51348.280274\n",
      "Name: test-rmse-mean, dtype: float64\n"
     ]
    }
   ],
   "source": [
    "# Extract and print final boosting round metric\n",
    "print((cv_results[\"test-rmse-mean\"]).tail(1))"
   ]
  },
  {
   "cell_type": "markdown",
   "id": "178355c5-15fd-4f81-8df4-71cb166bfca3",
   "metadata": {},
   "source": [
    "## 2.3 Regression with Regularization"
   ]
  },
  {
   "cell_type": "markdown",
   "id": "7a363ab8-170b-4135-a2b9-0f2e1491202e",
   "metadata": {},
   "source": [
    "Recall that we can apply **regularization** to control the complexity of the model:\n",
    "\n",
    "- `gamma`: minimum loss reduction allowed for a split to occur.\n",
    "- `alpha`: L1 regularization on (leaf) weights, larger values mean more regularization.\n",
    "- `lambda`: L2 regularization on (leaf) weights.\n",
    "\n",
    "Apparently, all these regularization parameters can be used with both base/weak learners; however, their interpretation is different in each case:\n",
    "\n",
    "1. Decision Trees (`\"gbtree\"` base learner):\n",
    "  - Gamma: Controls the minimum loss reduction required to make a split in a decision tree. A higher value of gamma makes the algorithm more conservative and reduces the number of splits.\n",
    "  - Alpha: L1 regularization parameter on leaf weights. A higher value of alpha makes the leaf weights closer to zero, resulting in a more sparse tree.\n",
    "  - Lambda: L2 regularization parameter on leaf weights. A higher value of lambda makes the leaf weights smaller, resulting in a smoother tree.\n",
    "\n",
    "2. Linear Models (`\"gblinear\"` base learner):\n",
    "  - Gamma: Controls the L1 regularization strength on the weights. A higher value of gamma results in more sparsity in the weight matrix.\n",
    "  - Alpha: L1 regularization parameter on the bias. A higher value of alpha makes the bias closer to zero, resulting in a more sparse model.\n",
    "  - Lambda: L2 regularization parameter on the weights. A higher value of lambda makes the weights smaller, resulting in a smoother model."
   ]
  },
  {
   "cell_type": "code",
   "execution_count": 58,
   "id": "5f161094-c352-42c1-8b00-6456676cb24e",
   "metadata": {},
   "outputs": [],
   "source": [
    "import xgboost as xgb\n",
    "import pandas as pd"
   ]
  },
  {
   "cell_type": "code",
   "execution_count": 40,
   "id": "b3a9f495-0b82-4be8-876b-e725783e99cf",
   "metadata": {},
   "outputs": [],
   "source": [
    "boston_data = pd.read_csv(\"../data/ames_housing_trimmed_processed.csv\")\n",
    "X,y = boston_data.iloc[:,:-1],boston_data.iloc[:,-1]\n",
    "boston_dmatrix = xgb.DMatrix(data=X,label=y)"
   ]
  },
  {
   "cell_type": "code",
   "execution_count": 44,
   "id": "2f814493-6184-4a93-be2e-b7e29932a247",
   "metadata": {},
   "outputs": [],
   "source": [
    "params={\"objective\":\"reg:squarederror\",\"max_depth\":4}\n",
    "# L1 regularization values to test\n",
    "l1_params = [1,10,100]\n",
    "# Results of each regularization parameter\n",
    "rmses_l1 = []"
   ]
  },
  {
   "cell_type": "code",
   "execution_count": 45,
   "id": "d6883081-8ce4-4ece-ada8-e98c5405aa6b",
   "metadata": {},
   "outputs": [],
   "source": [
    "# CV with each L1 param\n",
    "for reg in l1_params:\n",
    "    # Define L1 regularization param alpha\n",
    "    params[\"alpha\"] = reg\n",
    "    # We perform CV\n",
    "    cv_results = xgb.cv(dtrain=boston_dmatrix,\n",
    "                        params=params,\n",
    "                        nfold=4,\n",
    "                        num_boost_round=10,\n",
    "                        metrics=\"rmse\",\n",
    "                        as_pandas=True,\n",
    "                        seed=123)\n",
    "    # Store result metric\n",
    "    rmses_l1.append(cv_results[\"test-rmse-mean\"].tail(1).values[0])"
   ]
  },
  {
   "cell_type": "code",
   "execution_count": 46,
   "id": "3ea6bb50-0c06-40db-b80e-a27c2118bb13",
   "metadata": {},
   "outputs": [
    {
     "name": "stdout",
     "output_type": "stream",
     "text": [
      "Best rmse as a function of l1:\n",
      "    l1          rmse\n",
      "0    1  35572.514160\n",
      "1   10  35571.971680\n",
      "2  100  35572.370117\n"
     ]
    }
   ],
   "source": [
    "print(\"Best rmse as a function of l1:\")\n",
    "print(pd.DataFrame(list(zip(l1_params,rmses_l1)), columns=[\"l1\",\"rmse\"]))"
   ]
  },
  {
   "cell_type": "markdown",
   "id": "90a5f308-4bf6-46ca-9cf3-6fb9e27e8333",
   "metadata": {},
   "source": [
    "## 2.4 Visualizing Trees"
   ]
  },
  {
   "cell_type": "markdown",
   "id": "b265dd33-8bc8-4ab8-96e5-14cf5555b2a6",
   "metadata": {},
   "source": [
    "If we use the XGBoost learning API (with `DMatrix` and `xgb.train()`) we can visualize the trees under the hood using `plot_tree()`. Note: we need to `pip install graphviz` if not done yet."
   ]
  },
  {
   "cell_type": "code",
   "execution_count": 59,
   "id": "31ac3418-efc7-4f8d-acff-1150f8269d3e",
   "metadata": {},
   "outputs": [],
   "source": [
    "import xgboost as xgb\n",
    "import pandas as pd\n",
    "import matplotlib.pyplot as plt"
   ]
  },
  {
   "cell_type": "code",
   "execution_count": 48,
   "id": "3d7398ee-39af-4378-afed-acde009479bf",
   "metadata": {},
   "outputs": [],
   "source": [
    "boston_data = pd.read_csv(\"../data/ames_housing_trimmed_processed.csv\")\n",
    "X,y = boston_data.iloc[:,:-1],boston_data.iloc[:,-1]"
   ]
  },
  {
   "cell_type": "code",
   "execution_count": 49,
   "id": "557f98f6-e4a2-4aed-8a02-96d19d6b1ab0",
   "metadata": {},
   "outputs": [],
   "source": [
    "# Create the DMatrix: housing_dmatrix\n",
    "housing_dmatrix = xgb.DMatrix(data=X, label=y)"
   ]
  },
  {
   "cell_type": "code",
   "execution_count": 52,
   "id": "065b1692-547f-47c9-85ba-75c7010a6321",
   "metadata": {},
   "outputs": [],
   "source": [
    "# Create the parameter dictionary: params\n",
    "params = {\"objective\":\"reg:squarederror\", \"max_depth\":2}"
   ]
  },
  {
   "cell_type": "code",
   "execution_count": 53,
   "id": "8f0d2e27-1690-45e1-bd08-47134e36082e",
   "metadata": {},
   "outputs": [],
   "source": [
    "# Train the model: xg_reg\n",
    "xg_reg = xgb.train(params=params,\n",
    "                   dtrain=housing_dmatrix,\n",
    "                   num_boost_round=10) # 10 trees in total"
   ]
  },
  {
   "cell_type": "code",
   "execution_count": 61,
   "id": "104aeb59-71a9-45ad-a129-8e74c5dd6027",
   "metadata": {},
   "outputs": [
    {
     "data": {
      "image/png": "[encoded data removed]",
      "text/plain": [
       "<Figure size 432x288 with 1 Axes>"
      ]
     },
     "metadata": {
      "needs_background": "light"
     },
     "output_type": "display_data"
    }
   ],
   "source": [
    "# Plot the first tree\n",
    "# num_trees refers to the tree, starting with 0\n",
    "xgb.plot_tree(xg_reg, num_trees=0)\n",
    "plt.show()"
   ]
  },
  {
   "cell_type": "code",
   "execution_count": 62,
   "id": "2728dba3-a2b3-4203-9a46-f091210d29b4",
   "metadata": {},
   "outputs": [
    {
     "data": {
      "image/png": "[encoded data removed]",
      "text/plain": [
       "<Figure size 432x288 with 1 Axes>"
      ]
     },
     "metadata": {
      "needs_background": "light"
     },
     "output_type": "display_data"
    }
   ],
   "source": [
    "# Plot the fifth tree\n",
    "xgb.plot_tree(xg_reg, num_trees=4)\n",
    "plt.show()"
   ]
  },
  {
   "cell_type": "code",
   "execution_count": 64,
   "id": "a3975a8a-af46-47a2-9d5b-b46db50bcde6",
   "metadata": {},
   "outputs": [
    {
     "data": {
      "image/png": "[encoded data removed]",
      "text/plain": [
       "<Figure size 432x288 with 1 Axes>"
      ]
     },
     "metadata": {
      "needs_background": "light"
     },
     "output_type": "display_data"
    }
   ],
   "source": [
    "# Plot the last tree sideways\n",
    "xgb.plot_tree(xg_reg, num_trees=9, rankdir=\"LR\")\n",
    "plt.show()"
   ]
  },
  {
   "cell_type": "markdown",
   "id": "262fce10-9d80-4409-b833-200c732b1f88",
   "metadata": {},
   "source": [
    "## 2.5 Feature Importances"
   ]
  },
  {
   "cell_type": "markdown",
   "id": "76b05475-61b0-442a-b7be-87dc910ea3a7",
   "metadata": {},
   "source": [
    "One way of measuring the importance of a feature is counting the number of times each feature is split on across all boosting rounds (trees) in the model. We can visualize the results with `plot_importance()`. For that, we need to use the XGBoost learning API (with `DMatrix` and `xgb.train()`)."
   ]
  },
  {
   "cell_type": "code",
   "execution_count": 65,
   "id": "d29f058d-20aa-41a9-89fc-ce28243e9268",
   "metadata": {},
   "outputs": [],
   "source": [
    "import xgboost as xgb\n",
    "import pandas as pd\n",
    "import matplotlib.pyplot as plt"
   ]
  },
  {
   "cell_type": "code",
   "execution_count": 66,
   "id": "18d15228-8825-4655-8c95-e3ad7a8e52d7",
   "metadata": {},
   "outputs": [],
   "source": [
    "boston_data = pd.read_csv(\"../data/ames_housing_trimmed_processed.csv\")\n",
    "X,y = boston_data.iloc[:,:-1],boston_data.iloc[:,-1]"
   ]
  },
  {
   "cell_type": "code",
   "execution_count": 67,
   "id": "011a0b25-711a-4bed-b1c6-1ec94a3e631e",
   "metadata": {},
   "outputs": [],
   "source": [
    "# Create the DMatrix: housing_dmatrix\n",
    "housing_dmatrix = xgb.DMatrix(data=X, label=y)"
   ]
  },
  {
   "cell_type": "code",
   "execution_count": 69,
   "id": "668fdbf3-fab9-4611-9ea9-3b97c84fb8c6",
   "metadata": {},
   "outputs": [],
   "source": [
    "# Create the parameter dictionary: params\n",
    "params = {\"objective\":\"reg:squarederror\", \"max_depth\":4}"
   ]
  },
  {
   "cell_type": "code",
   "execution_count": 70,
   "id": "6e703205-6a3c-4382-87b5-8c0fa46b11a4",
   "metadata": {},
   "outputs": [],
   "source": [
    "# Train the model: xg_reg\n",
    "xg_reg = xgb.train(params=params,\n",
    "                   dtrain=housing_dmatrix,\n",
    "                   num_boost_round=10) # 10 trees in"
   ]
  },
  {
   "cell_type": "code",
   "execution_count": 71,
   "id": "7333c4f4-363a-42fe-9472-c0f29cbeca3d",
   "metadata": {},
   "outputs": [
    {
     "data": {
      "image/png": "[encoded data removed]",
      "text/plain": [
       "<Figure size 432x288 with 1 Axes>"
      ]
     },
     "metadata": {
      "needs_background": "light"
     },
     "output_type": "display_data"
    }
   ],
   "source": [
    "# Plot the feature importances\n",
    "xgb.plot_importance(xg_reg)\n",
    "plt.show()"
   ]
  },
  {
   "cell_type": "code",
   "execution_count": null,
   "id": "e75adf4c-3144-4af5-9171-e3b67f643901",
   "metadata": {},
   "outputs": [],
   "source": []
  }
 ],
 "metadata": {
  "kernelspec": {
   "display_name": "Python 3 (ipykernel)",
   "language": "python",
   "name": "python3"
  },
  "language_info": {
   "codemirror_mode": {
    "name": "ipython",
    "version": 3
   },
   "file_extension": ".py",
   "mimetype": "text/x-python",
   "name": "python",
   "nbconvert_exporter": "python",
   "pygments_lexer": "ipython3",
   "version": "3.7.13"
  }
 },
 "nbformat": 4,
 "nbformat_minor": 5
}
