{
 "cells": [
  {
   "cell_type": "markdown",
   "id": "d5a6abae-f876-434d-bc4b-96f7166f6186",
   "metadata": {},
   "source": [
    "# 3. Analyzing IoT Data"
   ]
  },
  {
   "cell_type": "markdown",
   "id": "a935b2cb-345a-4bd0-84cb-e0f9450de230",
   "metadata": {},
   "source": [
    "See the IoT Data Analysis guide: [`IoT_Datacamp.md`](../IoT_Datacamp.md)."
   ]
  },
  {
   "cell_type": "markdown",
   "id": "eb4600d1-6df4-48fb-ab8f-cd7d948233ad",
   "metadata": {},
   "source": [
    "## 3.1 Combining datasources for further analysis"
   ]
  },
  {
   "cell_type": "code",
   "execution_count": null,
   "id": "8d010965-fdca-4240-98c0-a5d8413c644f",
   "metadata": {},
   "outputs": [],
   "source": []
  }
 ],
 "metadata": {
  "kernelspec": {
   "display_name": "Python 3",
   "language": "python",
   "name": "python3"
  },
  "language_info": {
   "codemirror_mode": {
    "name": "ipython",
    "version": 3
   },
   "file_extension": ".py",
   "mimetype": "text/x-python",
   "name": "python",
   "nbconvert_exporter": "python",
   "pygments_lexer": "ipython3",
   "version": "3.8.8"
  }
 },
 "nbformat": 4,
 "nbformat_minor": 5
}
