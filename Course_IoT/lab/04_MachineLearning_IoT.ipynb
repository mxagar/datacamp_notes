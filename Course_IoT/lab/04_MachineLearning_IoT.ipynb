{
 "cells": [
  {
   "cell_type": "markdown",
   "id": "407c14ed-e721-42e0-90b6-e7d1ea3c5e6c",
   "metadata": {},
   "source": [
    "# 4. Machine Learning for IoT Data"
   ]
  },
  {
   "cell_type": "markdown",
   "id": "ead11710-ab87-4fb3-bbd9-763fb06df61b",
   "metadata": {},
   "source": [
    "See the IoT Data Analysis guide: [`IoT_Datacamp.md`](../IoT_Datacamp.md)."
   ]
  },
  {
   "cell_type": "code",
   "execution_count": null,
   "id": "4c3223dd-e0d7-4076-9ceb-25c95a4846ca",
   "metadata": {},
   "outputs": [],
   "source": []
  }
 ],
 "metadata": {
  "kernelspec": {
   "display_name": "Python 3",
   "language": "python",
   "name": "python3"
  },
  "language_info": {
   "codemirror_mode": {
    "name": "ipython",
    "version": 3
   },
   "file_extension": ".py",
   "mimetype": "text/x-python",
   "name": "python",
   "nbconvert_exporter": "python",
   "pygments_lexer": "ipython3",
   "version": "3.8.8"
  }
 },
 "nbformat": 4,
 "nbformat_minor": 5
}
