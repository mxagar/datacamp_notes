{
 "cells": [
  {
   "cell_type": "markdown",
   "id": "64dbcddb-5ab2-465a-987f-b90eb1b5f5a2",
   "metadata": {},
   "source": [
    "# 2. Processig IoT Data"
   ]
  },
  {
   "cell_type": "code",
   "execution_count": null,
   "id": "50d10c08-4b7a-4dfe-bfff-3df932da1394",
   "metadata": {},
   "outputs": [],
   "source": []
  }
 ],
 "metadata": {
  "kernelspec": {
   "display_name": "Python 3",
   "language": "python",
   "name": "python3"
  },
  "language_info": {
   "codemirror_mode": {
    "name": "ipython",
    "version": 3
   },
   "file_extension": ".py",
   "mimetype": "text/x-python",
   "name": "python",
   "nbconvert_exporter": "python",
   "pygments_lexer": "ipython3",
   "version": "3.8.8"
  }
 },
 "nbformat": 4,
 "nbformat_minor": 5
}
